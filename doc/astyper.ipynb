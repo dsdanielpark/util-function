{
 "cells": [
  {
   "cell_type": "code",
   "execution_count": null,
   "metadata": {},
   "outputs": [],
   "source": [
    "# Name: col_convert\n",
    "# Type: Function \n",
    "# Description: Restores a column whose array is stored as a string type back to an array type."
   ]
  },
  {
   "cell_type": "code",
   "execution_count": null,
   "metadata": {},
   "outputs": [],
   "source": [
    "from utilfunction import col_converter\n",
    "import pandas as pd\n",
    "\n",
    "df=pd.read_csv(\"test.csv\")\n",
    "nii_file_list = col_converter(df, \"embedding_arrays\")"
   ]
  }
 ],
 "metadata": {
  "language_info": {
   "name": "python"
  },
  "orig_nbformat": 4
 },
 "nbformat": 4,
 "nbformat_minor": 2
}
