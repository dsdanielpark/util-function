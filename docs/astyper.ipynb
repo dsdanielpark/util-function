{
 "cells": [
  {
   "cell_type": "code",
   "execution_count": null,
   "metadata": {},
   "outputs": [],
   "source": [
    "# Name: col_convert\n",
    "# Type: Function \n",
    "# Description: Restores a column whose array is stored as a string type back to an array type.\n"
   ]
  },
  {
   "cell_type": "code",
   "execution_count": 1,
   "metadata": {},
   "outputs": [
    {
     "data": {
      "application/vnd.jupyter.widget-view+json": {
       "model_id": "022812d4fcb34bcabb05189fa9bd9b87",
       "version_major": 2,
       "version_minor": 0
      },
      "text/plain": [
       "Downloading readme:   0%|          | 0.00/1.15k [00:00<?, ?B/s]"
      ]
     },
     "metadata": {},
     "output_type": "display_data"
    },
    {
     "name": "stdout",
     "output_type": "stream",
     "text": [
      "Downloading and preparing dataset csv/danielpark--MQuAD-v1 to C:/Users/parkm/.cache/huggingface/datasets/danielpark___csv/danielpark--MQuAD-v1-87d38281de25bbdb/0.0.0/6954658bab30a358235fa864b05cf819af0e179325c740e4bc853bcc7ec513e1...\n"
     ]
    },
    {
     "data": {
      "application/vnd.jupyter.widget-view+json": {
       "model_id": "0029245ccb2b48aabfce33802290fa1f",
       "version_major": 2,
       "version_minor": 0
      },
      "text/plain": [
       "Downloading data files:   0%|          | 0/1 [00:00<?, ?it/s]"
      ]
     },
     "metadata": {},
     "output_type": "display_data"
    },
    {
     "data": {
      "application/vnd.jupyter.widget-view+json": {
       "model_id": "518251cc9b924153952b3386af8960ac",
       "version_major": 2,
       "version_minor": 0
      },
      "text/plain": [
       "Downloading data:   0%|          | 0.00/546M [00:00<?, ?B/s]"
      ]
     },
     "metadata": {},
     "output_type": "display_data"
    },
    {
     "data": {
      "application/vnd.jupyter.widget-view+json": {
       "model_id": "0120e29fd65b49b3ba632fcd15faedac",
       "version_major": 2,
       "version_minor": 0
      },
      "text/plain": [
       "Extracting data files:   0%|          | 0/1 [00:00<?, ?it/s]"
      ]
     },
     "metadata": {},
     "output_type": "display_data"
    },
    {
     "data": {
      "application/vnd.jupyter.widget-view+json": {
       "model_id": "fa815d33b73f40f2983ffc59ce382c79",
       "version_major": 2,
       "version_minor": 0
      },
      "text/plain": [
       "Generating train split: 0 examples [00:00, ? examples/s]"
      ]
     },
     "metadata": {},
     "output_type": "display_data"
    },
    {
     "name": "stdout",
     "output_type": "stream",
     "text": [
      "Dataset csv downloaded and prepared to C:/Users/parkm/.cache/huggingface/datasets/danielpark___csv/danielpark--MQuAD-v1-87d38281de25bbdb/0.0.0/6954658bab30a358235fa864b05cf819af0e179325c740e4bc853bcc7ec513e1. Subsequent calls will reuse this data.\n"
     ]
    },
    {
     "data": {
      "application/vnd.jupyter.widget-view+json": {
       "model_id": "5d26bed3a5cb4856ac55ad7984fc914d",
       "version_major": 2,
       "version_minor": 0
      },
      "text/plain": [
       "  0%|          | 0/1 [00:00<?, ?it/s]"
      ]
     },
     "metadata": {},
     "output_type": "display_data"
    }
   ],
   "source": [
    "from datasets import load_dataset\n",
    "from utilfunction import col_convert\n",
    "import pandas as pd\n",
    "\n",
    "qa = load_dataset(\"danielpark/MQuAD-v1\", \"csv\")\n",
    "df_qa = pd.DataFrame(qa['train'])\n",
    "df_qa = col_convert(df_qa, ['Q_FFNN_embeds', 'A_FFNN_embeds'])"
   ]
  },
  {
   "cell_type": "code",
   "execution_count": 2,
   "metadata": {},
   "outputs": [
    {
     "data": {
      "text/html": [
       "<div>\n",
       "<style scoped>\n",
       "    .dataframe tbody tr th:only-of-type {\n",
       "        vertical-align: middle;\n",
       "    }\n",
       "\n",
       "    .dataframe tbody tr th {\n",
       "        vertical-align: top;\n",
       "    }\n",
       "\n",
       "    .dataframe thead th {\n",
       "        text-align: right;\n",
       "    }\n",
       "</style>\n",
       "<table border=\"1\" class=\"dataframe\">\n",
       "  <thead>\n",
       "    <tr style=\"text-align: right;\">\n",
       "      <th></th>\n",
       "      <th>question</th>\n",
       "      <th>answer</th>\n",
       "      <th>Q_FFNN_embeds</th>\n",
       "      <th>A_FFNN_embeds</th>\n",
       "    </tr>\n",
       "  </thead>\n",
       "  <tbody>\n",
       "    <tr>\n",
       "      <th>0</th>\n",
       "      <td>can an antibiotic through an iv give you a ras...</td>\n",
       "      <td>yes it can even after you have finished the pr...</td>\n",
       "      <td>[-0.01133056, 0.03064354, 0.01250804, 0.037662...</td>\n",
       "      <td>[-0.02780434, 0.0320833, 0.02178381, -0.034025...</td>\n",
       "    </tr>\n",
       "    <tr>\n",
       "      <th>1</th>\n",
       "      <td>can you test positive from having the hep b va...</td>\n",
       "      <td>test positive for what if you had a hep b vacc...</td>\n",
       "      <td>[-0.0120454004, 0.0368995981, -0.0395330633, 0...</td>\n",
       "      <td>[-0.015650251, 0.0409676742, -0.0368645472, -0...</td>\n",
       "    </tr>\n",
       "    <tr>\n",
       "      <th>2</th>\n",
       "      <td>what are the dietary restrictions for celiac d...</td>\n",
       "      <td>omitting gluten from the diet is the key to co...</td>\n",
       "      <td>[0.0247173031, 0.0370393064, -0.0418865054, 0....</td>\n",
       "      <td>[0.0152742984, 0.0381957507, -0.0320253849, -0...</td>\n",
       "    </tr>\n",
       "    <tr>\n",
       "      <th>3</th>\n",
       "      <td>i have had a pneumonia shot can i get either a...</td>\n",
       "      <td>you can always catch an illness from a child b...</td>\n",
       "      <td>[-0.0220132892, 0.0377654201, -0.03092785, 0.0...</td>\n",
       "      <td>[-0.01963027, 0.04048549, -0.01962097, -0.0364...</td>\n",
       "    </tr>\n",
       "    <tr>\n",
       "      <th>4</th>\n",
       "      <td>my baby ate her on poop my baby ate poop 4 day...</td>\n",
       "      <td>hi one of ours did that she is now 47 and a mu...</td>\n",
       "      <td>[0.0363953368, 0.00702075643, -0.033838689, 0....</td>\n",
       "      <td>[-0.00311031, -0.03114241, 0.04221829, -0.0356...</td>\n",
       "    </tr>\n",
       "    <tr>\n",
       "      <th>...</th>\n",
       "      <td>...</td>\n",
       "      <td>...</td>\n",
       "      <td>...</td>\n",
       "      <td>...</td>\n",
       "    </tr>\n",
       "    <tr>\n",
       "      <th>23797</th>\n",
       "      <td>felt a stinging pain then a sharp pain…fang marks</td>\n",
       "      <td>mix baking soda with water put paste on bite d...</td>\n",
       "      <td>[-0.0271109088, 0.00937714221, -0.0214608079, ...</td>\n",
       "      <td>[-0.0130530748, 0.0212470194, 0.0475598795, 0....</td>\n",
       "    </tr>\n",
       "    <tr>\n",
       "      <th>23798</th>\n",
       "      <td>is creatine safe for a 9 year old child</td>\n",
       "      <td>i would not recommend or encourage using creat...</td>\n",
       "      <td>[0.0226758, 0.03131214, -0.0301733, 0.05214937...</td>\n",
       "      <td>[0.02662649, 0.03071482, -0.01958341, -0.03726...</td>\n",
       "    </tr>\n",
       "    <tr>\n",
       "      <th>23799</th>\n",
       "      <td>what is the best skin care routine to prevent ...</td>\n",
       "      <td>use sun protection every day all year round pr...</td>\n",
       "      <td>[0.0105808069, 0.0207906252, 0.062384671, 0.03...</td>\n",
       "      <td>[-0.0181416111, 0.0102648714, 0.0406265062, -0...</td>\n",
       "    </tr>\n",
       "    <tr>\n",
       "      <th>23800</th>\n",
       "      <td>is garcinia mangostana safe to take with crestor</td>\n",
       "      <td>in general it is best to discuss with your the...</td>\n",
       "      <td>[0.0314347562, -0.00338699407, 0.0459357485, 0...</td>\n",
       "      <td>[0.0272698012, 0.0159737054, 0.0383440597, -0....</td>\n",
       "    </tr>\n",
       "    <tr>\n",
       "      <th>23801</th>\n",
       "      <td>what is an angiotensin ii receptor blocker arb...</td>\n",
       "      <td>angiotensin ii receptor blockers arbs is a gro...</td>\n",
       "      <td>[0.02227634, 0.03187915, -0.03221047, 0.055323...</td>\n",
       "      <td>[0.01796148, 0.05100935, 0.00679781, 0.0091323...</td>\n",
       "    </tr>\n",
       "  </tbody>\n",
       "</table>\n",
       "<p>23802 rows × 4 columns</p>\n",
       "</div>"
      ],
      "text/plain": [
       "                                                question  \\\n",
       "0      can an antibiotic through an iv give you a ras...   \n",
       "1      can you test positive from having the hep b va...   \n",
       "2      what are the dietary restrictions for celiac d...   \n",
       "3      i have had a pneumonia shot can i get either a...   \n",
       "4      my baby ate her on poop my baby ate poop 4 day...   \n",
       "...                                                  ...   \n",
       "23797  felt a stinging pain then a sharp pain…fang marks   \n",
       "23798            is creatine safe for a 9 year old child   \n",
       "23799  what is the best skin care routine to prevent ...   \n",
       "23800   is garcinia mangostana safe to take with crestor   \n",
       "23801  what is an angiotensin ii receptor blocker arb...   \n",
       "\n",
       "                                                  answer  \\\n",
       "0      yes it can even after you have finished the pr...   \n",
       "1      test positive for what if you had a hep b vacc...   \n",
       "2      omitting gluten from the diet is the key to co...   \n",
       "3      you can always catch an illness from a child b...   \n",
       "4      hi one of ours did that she is now 47 and a mu...   \n",
       "...                                                  ...   \n",
       "23797  mix baking soda with water put paste on bite d...   \n",
       "23798  i would not recommend or encourage using creat...   \n",
       "23799  use sun protection every day all year round pr...   \n",
       "23800  in general it is best to discuss with your the...   \n",
       "23801  angiotensin ii receptor blockers arbs is a gro...   \n",
       "\n",
       "                                           Q_FFNN_embeds  \\\n",
       "0      [-0.01133056, 0.03064354, 0.01250804, 0.037662...   \n",
       "1      [-0.0120454004, 0.0368995981, -0.0395330633, 0...   \n",
       "2      [0.0247173031, 0.0370393064, -0.0418865054, 0....   \n",
       "3      [-0.0220132892, 0.0377654201, -0.03092785, 0.0...   \n",
       "4      [0.0363953368, 0.00702075643, -0.033838689, 0....   \n",
       "...                                                  ...   \n",
       "23797  [-0.0271109088, 0.00937714221, -0.0214608079, ...   \n",
       "23798  [0.0226758, 0.03131214, -0.0301733, 0.05214937...   \n",
       "23799  [0.0105808069, 0.0207906252, 0.062384671, 0.03...   \n",
       "23800  [0.0314347562, -0.00338699407, 0.0459357485, 0...   \n",
       "23801  [0.02227634, 0.03187915, -0.03221047, 0.055323...   \n",
       "\n",
       "                                           A_FFNN_embeds  \n",
       "0      [-0.02780434, 0.0320833, 0.02178381, -0.034025...  \n",
       "1      [-0.015650251, 0.0409676742, -0.0368645472, -0...  \n",
       "2      [0.0152742984, 0.0381957507, -0.0320253849, -0...  \n",
       "3      [-0.01963027, 0.04048549, -0.01962097, -0.0364...  \n",
       "4      [-0.00311031, -0.03114241, 0.04221829, -0.0356...  \n",
       "...                                                  ...  \n",
       "23797  [-0.0130530748, 0.0212470194, 0.0475598795, 0....  \n",
       "23798  [0.02662649, 0.03071482, -0.01958341, -0.03726...  \n",
       "23799  [-0.0181416111, 0.0102648714, 0.0406265062, -0...  \n",
       "23800  [0.0272698012, 0.0159737054, 0.0383440597, -0....  \n",
       "23801  [0.01796148, 0.05100935, 0.00679781, 0.0091323...  \n",
       "\n",
       "[23802 rows x 4 columns]"
      ]
     },
     "execution_count": 2,
     "metadata": {},
     "output_type": "execute_result"
    }
   ],
   "source": [
    "df_qa"
   ]
  }
 ],
 "metadata": {
  "kernelspec": {
   "display_name": "miccai",
   "language": "python",
   "name": "miccai"
  },
  "language_info": {
   "codemirror_mode": {
    "name": "ipython",
    "version": 3
   },
   "file_extension": ".py",
   "mimetype": "text/x-python",
   "name": "python",
   "nbconvert_exporter": "python",
   "pygments_lexer": "ipython3",
   "version": "3.8.5"
  },
  "orig_nbformat": 4
 },
 "nbformat": 4,
 "nbformat_minor": 2
}
